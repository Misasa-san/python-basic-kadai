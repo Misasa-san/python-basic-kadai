{
  "nbformat": 4,
  "nbformat_minor": 0,
  "metadata": {
    "colab": {
      "provenance": []
    },
    "kernelspec": {
      "name": "python3",
      "display_name": "Python 3"
    },
    "language_info": {
      "name": "python"
    }
  },
  "cells": [
    {
      "cell_type": "code",
      "execution_count": 4,
      "metadata": {
        "colab": {
          "base_uri": "https://localhost:8080/"
        },
        "id": "pgBQWZ-CkUhy",
        "outputId": "caad0d48-a8e3-47e7-b133-dc063da6cca4"
      },
      "outputs": [
        {
          "output_type": "stream",
          "name": "stdout",
          "text": [
            "121.00000000000001\n"
          ]
        }
      ],
      "source": [
        "def include_tax(price, tax):\n",
        "  total = price * (1 + tax / 100)\n",
        "  return total\n",
        "\n",
        "print(include_tax(110, 10))"
      ]
    },
    {
      "cell_type": "code",
      "source": [],
      "metadata": {
        "id": "ih39RuAZjkq-"
      },
      "execution_count": null,
      "outputs": []
    }
  ]
}