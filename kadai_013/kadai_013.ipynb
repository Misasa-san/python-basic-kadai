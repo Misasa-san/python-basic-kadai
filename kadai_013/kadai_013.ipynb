{
  "nbformat": 4,
  "nbformat_minor": 0,
  "metadata": {
    "colab": {
      "provenance": []
    },
    "kernelspec": {
      "name": "python3",
      "display_name": "Python 3"
    },
    "language_info": {
      "name": "python"
    }
  },
  "cells": [
    {
      "cell_type": "code",
      "execution_count": 9,
      "metadata": {
        "colab": {
          "base_uri": "https://localhost:8080/"
        },
        "id": "pgBQWZ-CkUhy",
        "outputId": "9de9ac67-3292-4575-9c4a-0c0da969262c"
      },
      "outputs": [
        {
          "output_type": "stream",
          "name": "stdout",
          "text": [
            "料金に含まれる消費税は10.000000000000004円です。\n"
          ]
        }
      ],
      "source": [
        "def include_tax(price, tax):\n",
        "  total = price * (1 + tax / 100)\n",
        "\n",
        "  if price > 0:\n",
        "    return f\"税込金額は{total}円です。\"\n",
        "  else:\n",
        "    return \"金額と税率を入力して下さい。\"\n",
        "\n",
        "calculate_tax(110, 10)"
      ]
    }
  ]
}