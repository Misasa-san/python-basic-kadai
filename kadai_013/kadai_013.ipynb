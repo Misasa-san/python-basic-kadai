{
  "nbformat": 4,
  "nbformat_minor": 0,
  "metadata": {
    "colab": {
      "provenance": []
    },
    "kernelspec": {
      "name": "python3",
      "display_name": "Python 3"
    },
    "language_info": {
      "name": "python"
    }
  },
  "cells": [
    {
      "cell_type": "code",
      "execution_count": null,
      "metadata": {
        "colab": {
          "base_uri": "https://localhost:8080/"
        },
        "id": "pgBQWZ-CkUhy",
        "outputId": "236b4990-ee49-4fca-efe0-bed955d35fe7"
      },
      "outputs": [
        {
          "output_type": "stream",
          "name": "stdout",
          "text": [
            "料金に含まれる消費税は10.000000000000004円です。\n"
          ]
        }
      ],
      "source": [
        "def calculate_tax(total, rate):\n",
        "  tax = total * (1 - (100 / (100 + rate)))\n",
        "\n",
        "  print(f\"料金に含まれる消費税は{tax}円です。\")\n",
        "\n",
        "calculate_tax(110, 10)"
      ]
    }
  ]
}