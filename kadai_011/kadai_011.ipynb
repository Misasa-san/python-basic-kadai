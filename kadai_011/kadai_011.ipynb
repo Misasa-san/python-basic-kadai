{
  "nbformat": 4,
  "nbformat_minor": 0,
  "metadata": {
    "colab": {
      "provenance": []
    },
    "kernelspec": {
      "name": "python3",
      "display_name": "Python 3"
    },
    "language_info": {
      "name": "python"
    }
  },
  "cells": [
    {
      "cell_type": "code",
      "execution_count": 9,
      "metadata": {
        "colab": {
          "base_uri": "https://localhost:8080/"
        },
        "id": "nsYHrdnlby7I",
        "outputId": "fea78dfc-a11e-4192-8beb-ed0a5fac0682"
      },
      "outputs": [
        {
          "output_type": "stream",
          "name": "stdout",
          "text": [
            "水\n",
            "金\n",
            "地\n",
            "火\n",
            "木\n",
            "土\n",
            "天\n",
            "海\n",
            "冥\n",
            "水\n",
            "金\n",
            "地\n",
            "火\n",
            "木\n",
            "土\n",
            "天\n",
            "海\n",
            "冥\n"
          ]
        }
      ],
      "source": [
        "array = [\"水\",\"金\",\"地\",\"火\",\"木\",\"土\",\"天\",\"海\",\"冥\"]\n",
        "\n",
        "# for文での主力\n",
        "for planet in array:\n",
        "  print(planet)\n",
        "\n",
        "# while文での出力\n",
        "# リストの中の個数を変数numに代入\n",
        "num = len(array)\n",
        "\n",
        "# while用のカウンタ変数を設定\n",
        "i = 0\n",
        "\n",
        "while i < num:\n",
        "  print(array[i])\n",
        "  i = i + 1"
      ]
    }
  ]
}