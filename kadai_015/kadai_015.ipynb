{
  "nbformat": 4,
  "nbformat_minor": 0,
  "metadata": {
    "colab": {
      "provenance": []
    },
    "kernelspec": {
      "name": "python3",
      "display_name": "Python 3"
    },
    "language_info": {
      "name": "python"
    }
  },
  "cells": [
    {
      "cell_type": "code",
      "execution_count": 2,
      "metadata": {
        "colab": {
          "base_uri": "https://localhost:8080/"
        },
        "id": "Gz7vYs6Jc5_W",
        "outputId": "2717dafb-c2fa-4c93-8b68-fc0eca78ae98"
      },
      "outputs": [
        {
          "output_type": "stream",
          "name": "stdout",
          "text": [
            "侍太郎 36\n"
          ]
        }
      ],
      "source": [
        "class Human:\n",
        "  def __init__(self, name, age):\n",
        "    self.name = name\n",
        "    self.age = age\n",
        "\n",
        "  def printinfo(self):\n",
        "    print(self.name, self.age)\n",
        "\n",
        "taro_samurai = Human(\"侍太郎\", 36)\n",
        "\n",
        "taro_samurai.printinfo()"
      ]
    }
  ]
}