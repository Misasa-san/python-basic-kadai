{
  "nbformat": 4,
  "nbformat_minor": 0,
  "metadata": {
    "colab": {
      "provenance": []
    },
    "kernelspec": {
      "name": "python3",
      "display_name": "Python 3"
    },
    "language_info": {
      "name": "python"
    }
  },
  "cells": [
    {
      "cell_type": "code",
      "execution_count": 4,
      "metadata": {
        "colab": {
          "base_uri": "https://localhost:8080/"
        },
        "id": "uuE4y2mJsbo-",
        "outputId": "2a7ecd43-5ad2-4ee8-8dc3-99668bcb8793"
      },
      "outputs": [
        {
          "output_type": "stream",
          "name": "stdout",
          "text": [
            "侍太郎は大人です。\n",
            "侍花子は大人です。\n",
            "侍二郎は大人です。\n",
            "侍三郎は大人ではありません。\n",
            "侍五郎は大人ではありません。\n"
          ]
        }
      ],
      "source": [
        "class Human:\n",
        "  # コンストラクタの定義\n",
        "  def __init__(self, name, age):\n",
        "    self.name = name\n",
        "    self.age = age\n",
        "\n",
        "  # メソッドの定義\n",
        "  def check_adult(self):\n",
        "    if self.age >= 20:\n",
        "      print(f\"{self.name}は大人です。\")\n",
        "    else:\n",
        "      print(f\"{self.name}は大人ではありません。\")\n",
        "\n",
        "\n",
        "human_data = []\n",
        "\n",
        "human1 = Human(\"侍太郎\", 30)\n",
        "human_data.append(human1)\n",
        "human2 = Human(\"侍花子\", 26)\n",
        "human_data.append(human2)\n",
        "human3 = Human(\"侍二郎\", 20)\n",
        "human_data.append(human3)\n",
        "human4 = Human(\"侍三郎\", 19)\n",
        "human_data.append(human4)\n",
        "human5 = Human(\"侍五郎\", 12)\n",
        "human_data.append(human5)\n",
        "\n",
        "for item in human_data:\n",
        "  item.check_adult()"
      ]
    }
  ]
}